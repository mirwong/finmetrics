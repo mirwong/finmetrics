{
 "cells": [
  {
   "cell_type": "code",
   "execution_count": 1,
   "metadata": {},
   "outputs": [],
   "source": [
    "import pandas as pd\n",
    "import numpy as np\n"
   ]
  },
  {
   "cell_type": "code",
   "execution_count": 24,
   "metadata": {},
   "outputs": [],
   "source": [
    "def calculate_daily_return(row):\n",
    "    return row['Close'] - row['Open']"
   ]
  },
  {
   "cell_type": "code",
   "execution_count": 115,
   "metadata": {},
   "outputs": [],
   "source": [
    "def expected_value():\n",
    "    pass"
   ]
  },
  {
   "cell_type": "code",
   "execution_count": 49,
   "metadata": {},
   "outputs": [],
   "source": [
    "def load_stock(filename):\n",
    "    data = pd.read_csv(filename)\n",
    "    data['Gross Return'] = data.apply(calculate_daily_return, axis=1)\n",
    "    data['Pct Return'] = data.apply(lambda row: 100*row['Gross Return']/row['Open'], axis=1)\n",
    "    return data"
   ]
  },
  {
   "cell_type": "code",
   "execution_count": 59,
   "metadata": {},
   "outputs": [
    {
     "data": {
      "text/html": [
       "<div>\n",
       "<style scoped>\n",
       "    .dataframe tbody tr th:only-of-type {\n",
       "        vertical-align: middle;\n",
       "    }\n",
       "\n",
       "    .dataframe tbody tr th {\n",
       "        vertical-align: top;\n",
       "    }\n",
       "\n",
       "    .dataframe thead th {\n",
       "        text-align: right;\n",
       "    }\n",
       "</style>\n",
       "<table border=\"1\" class=\"dataframe\">\n",
       "  <thead>\n",
       "    <tr style=\"text-align: right;\">\n",
       "      <th></th>\n",
       "      <th>Date</th>\n",
       "      <th>Open</th>\n",
       "      <th>High</th>\n",
       "      <th>Low</th>\n",
       "      <th>Close</th>\n",
       "      <th>Adj Close</th>\n",
       "      <th>Volume</th>\n",
       "      <th>Gross Return</th>\n",
       "      <th>Pct Return</th>\n",
       "    </tr>\n",
       "  </thead>\n",
       "  <tbody>\n",
       "    <tr>\n",
       "      <th>0</th>\n",
       "      <td>2010-09-07</td>\n",
       "      <td>2227.260010</td>\n",
       "      <td>2231.280029</td>\n",
       "      <td>2206.620117</td>\n",
       "      <td>2208.889893</td>\n",
       "      <td>2208.889893</td>\n",
       "      <td>1685240000</td>\n",
       "      <td>-18.370117</td>\n",
       "      <td>-0.824785</td>\n",
       "    </tr>\n",
       "    <tr>\n",
       "      <th>1</th>\n",
       "      <td>2010-09-08</td>\n",
       "      <td>2216.070068</td>\n",
       "      <td>2237.419922</td>\n",
       "      <td>2215.899902</td>\n",
       "      <td>2228.870117</td>\n",
       "      <td>2228.870117</td>\n",
       "      <td>2018210000</td>\n",
       "      <td>12.800049</td>\n",
       "      <td>0.577601</td>\n",
       "    </tr>\n",
       "    <tr>\n",
       "      <th>2</th>\n",
       "      <td>2010-09-09</td>\n",
       "      <td>2251.090088</td>\n",
       "      <td>2251.979980</td>\n",
       "      <td>2229.800049</td>\n",
       "      <td>2236.199951</td>\n",
       "      <td>2236.199951</td>\n",
       "      <td>1706650000</td>\n",
       "      <td>-14.890137</td>\n",
       "      <td>-0.661463</td>\n",
       "    </tr>\n",
       "    <tr>\n",
       "      <th>3</th>\n",
       "      <td>2010-09-10</td>\n",
       "      <td>2239.080078</td>\n",
       "      <td>2246.600098</td>\n",
       "      <td>2229.120117</td>\n",
       "      <td>2242.479980</td>\n",
       "      <td>2242.479980</td>\n",
       "      <td>1692470000</td>\n",
       "      <td>3.399902</td>\n",
       "      <td>0.151844</td>\n",
       "    </tr>\n",
       "    <tr>\n",
       "      <th>4</th>\n",
       "      <td>2010-09-13</td>\n",
       "      <td>2263.800049</td>\n",
       "      <td>2289.489990</td>\n",
       "      <td>2263.689941</td>\n",
       "      <td>2285.709961</td>\n",
       "      <td>2285.709961</td>\n",
       "      <td>1937630000</td>\n",
       "      <td>21.909912</td>\n",
       "      <td>0.967838</td>\n",
       "    </tr>\n",
       "  </tbody>\n",
       "</table>\n",
       "</div>"
      ],
      "text/plain": [
       "         Date         Open         High          Low        Close  \\\n",
       "0  2010-09-07  2227.260010  2231.280029  2206.620117  2208.889893   \n",
       "1  2010-09-08  2216.070068  2237.419922  2215.899902  2228.870117   \n",
       "2  2010-09-09  2251.090088  2251.979980  2229.800049  2236.199951   \n",
       "3  2010-09-10  2239.080078  2246.600098  2229.120117  2242.479980   \n",
       "4  2010-09-13  2263.800049  2289.489990  2263.689941  2285.709961   \n",
       "\n",
       "     Adj Close      Volume  Gross Return  Pct Return  \n",
       "0  2208.889893  1685240000    -18.370117   -0.824785  \n",
       "1  2228.870117  2018210000     12.800049    0.577601  \n",
       "2  2236.199951  1706650000    -14.890137   -0.661463  \n",
       "3  2242.479980  1692470000      3.399902    0.151844  \n",
       "4  2285.709961  1937630000     21.909912    0.967838  "
      ]
     },
     "execution_count": 59,
     "metadata": {},
     "output_type": "execute_result"
    }
   ],
   "source": [
    "nasdaq = load_stock('NASDAQ_10y.csv')\n",
    "nasdaq.head()"
   ]
  },
  {
   "cell_type": "code",
   "execution_count": 86,
   "metadata": {},
   "outputs": [],
   "source": [
    "def get_composite_var(composite):\n",
    "    return composite.var()\n",
    "\n",
    "def calc_cov(comp_var, stock, metric):\n",
    "    var_series = pd.Series([comp_var for n in range(len(stock.index))])\n",
    "    return stock[metric].cov(var_series)\n",
    "\n",
    "def calc_B_im(stock, comp, metric, comp_var=None):\n",
    "    if comp_var[metric] == None:\n",
    "        comp_var = get_composite_var(comp)\n",
    "    cov = calc_cov(comp_var[metric], stock, metric)\n",
    "    return cov/comp_var[metric]"
   ]
  },
  {
   "cell_type": "code",
   "execution_count": 87,
   "metadata": {},
   "outputs": [
    {
     "data": {
      "text/html": [
       "<div>\n",
       "<style scoped>\n",
       "    .dataframe tbody tr th:only-of-type {\n",
       "        vertical-align: middle;\n",
       "    }\n",
       "\n",
       "    .dataframe tbody tr th {\n",
       "        vertical-align: top;\n",
       "    }\n",
       "\n",
       "    .dataframe thead th {\n",
       "        text-align: right;\n",
       "    }\n",
       "</style>\n",
       "<table border=\"1\" class=\"dataframe\">\n",
       "  <thead>\n",
       "    <tr style=\"text-align: right;\">\n",
       "      <th></th>\n",
       "      <th>Date</th>\n",
       "      <th>Open</th>\n",
       "      <th>High</th>\n",
       "      <th>Low</th>\n",
       "      <th>Close</th>\n",
       "      <th>Adj Close</th>\n",
       "      <th>Volume</th>\n",
       "      <th>Gross Return</th>\n",
       "      <th>Pct Return</th>\n",
       "    </tr>\n",
       "  </thead>\n",
       "  <tbody>\n",
       "    <tr>\n",
       "      <th>0</th>\n",
       "      <td>2010-09-07</td>\n",
       "      <td>58.250000</td>\n",
       "      <td>59.000000</td>\n",
       "      <td>58.200001</td>\n",
       "      <td>58.639999</td>\n",
       "      <td>45.681999</td>\n",
       "      <td>2598500</td>\n",
       "      <td>0.389999</td>\n",
       "      <td>0.669526</td>\n",
       "    </tr>\n",
       "    <tr>\n",
       "      <th>1</th>\n",
       "      <td>2010-09-08</td>\n",
       "      <td>59.369999</td>\n",
       "      <td>59.419998</td>\n",
       "      <td>58.799999</td>\n",
       "      <td>59.209999</td>\n",
       "      <td>46.126049</td>\n",
       "      <td>3412700</td>\n",
       "      <td>-0.160000</td>\n",
       "      <td>-0.269496</td>\n",
       "    </tr>\n",
       "    <tr>\n",
       "      <th>2</th>\n",
       "      <td>2010-09-09</td>\n",
       "      <td>59.500000</td>\n",
       "      <td>59.509998</td>\n",
       "      <td>58.830002</td>\n",
       "      <td>58.939999</td>\n",
       "      <td>45.915714</td>\n",
       "      <td>2622900</td>\n",
       "      <td>-0.560001</td>\n",
       "      <td>-0.941178</td>\n",
       "    </tr>\n",
       "    <tr>\n",
       "      <th>3</th>\n",
       "      <td>2010-09-10</td>\n",
       "      <td>59.299999</td>\n",
       "      <td>59.790001</td>\n",
       "      <td>59.139999</td>\n",
       "      <td>59.540001</td>\n",
       "      <td>46.383121</td>\n",
       "      <td>2608600</td>\n",
       "      <td>0.240002</td>\n",
       "      <td>0.404725</td>\n",
       "    </tr>\n",
       "    <tr>\n",
       "      <th>4</th>\n",
       "      <td>2010-09-13</td>\n",
       "      <td>59.820000</td>\n",
       "      <td>60.230000</td>\n",
       "      <td>59.410000</td>\n",
       "      <td>60.049999</td>\n",
       "      <td>46.780426</td>\n",
       "      <td>3107800</td>\n",
       "      <td>0.229999</td>\n",
       "      <td>0.384485</td>\n",
       "    </tr>\n",
       "  </tbody>\n",
       "</table>\n",
       "</div>"
      ],
      "text/plain": [
       "         Date       Open       High        Low      Close  Adj Close   Volume  \\\n",
       "0  2010-09-07  58.250000  59.000000  58.200001  58.639999  45.681999  2598500   \n",
       "1  2010-09-08  59.369999  59.419998  58.799999  59.209999  46.126049  3412700   \n",
       "2  2010-09-09  59.500000  59.509998  58.830002  58.939999  45.915714  2622900   \n",
       "3  2010-09-10  59.299999  59.790001  59.139999  59.540001  46.383121  2608600   \n",
       "4  2010-09-13  59.820000  60.230000  59.410000  60.049999  46.780426  3107800   \n",
       "\n",
       "   Gross Return  Pct Return  \n",
       "0      0.389999    0.669526  \n",
       "1     -0.160000   -0.269496  \n",
       "2     -0.560001   -0.941178  \n",
       "3      0.240002    0.404725  \n",
       "4      0.229999    0.384485  "
      ]
     },
     "execution_count": 87,
     "metadata": {},
     "output_type": "execute_result"
    }
   ],
   "source": [
    "costco = load_stock('COST_10y.csv')\n",
    "costco.head()"
   ]
  },
  {
   "cell_type": "code",
   "execution_count": 88,
   "metadata": {},
   "outputs": [
    {
     "ename": "TypeError",
     "evalue": "'NoneType' object is not subscriptable",
     "output_type": "error",
     "traceback": [
      "\u001b[0;31m---------------------------------------------------------------------------\u001b[0m",
      "\u001b[0;31mTypeError\u001b[0m                                 Traceback (most recent call last)",
      "\u001b[0;32m<ipython-input-88-5ab20aa97123>\u001b[0m in \u001b[0;36m<module>\u001b[0;34m\u001b[0m\n\u001b[0;32m----> 1\u001b[0;31m \u001b[0mcalc_B_im\u001b[0m\u001b[0;34m(\u001b[0m\u001b[0mcostco\u001b[0m\u001b[0;34m,\u001b[0m \u001b[0mnasdaq\u001b[0m\u001b[0;34m,\u001b[0m \u001b[0;34m'Pct Return'\u001b[0m\u001b[0;34m)\u001b[0m\u001b[0;34m\u001b[0m\u001b[0;34m\u001b[0m\u001b[0m\n\u001b[0m",
      "\u001b[0;32m<ipython-input-86-4aa72da0315e>\u001b[0m in \u001b[0;36mcalc_B_im\u001b[0;34m(stock, comp, metric, comp_var)\u001b[0m\n\u001b[1;32m      7\u001b[0m \u001b[0;34m\u001b[0m\u001b[0m\n\u001b[1;32m      8\u001b[0m \u001b[0;32mdef\u001b[0m \u001b[0mcalc_B_im\u001b[0m\u001b[0;34m(\u001b[0m\u001b[0mstock\u001b[0m\u001b[0;34m,\u001b[0m \u001b[0mcomp\u001b[0m\u001b[0;34m,\u001b[0m \u001b[0mmetric\u001b[0m\u001b[0;34m,\u001b[0m \u001b[0mcomp_var\u001b[0m\u001b[0;34m=\u001b[0m\u001b[0;32mNone\u001b[0m\u001b[0;34m)\u001b[0m\u001b[0;34m:\u001b[0m\u001b[0;34m\u001b[0m\u001b[0;34m\u001b[0m\u001b[0m\n\u001b[0;32m----> 9\u001b[0;31m     \u001b[0;32mif\u001b[0m \u001b[0mcomp_var\u001b[0m\u001b[0;34m[\u001b[0m\u001b[0mmetric\u001b[0m\u001b[0;34m]\u001b[0m \u001b[0;34m==\u001b[0m \u001b[0;32mNone\u001b[0m\u001b[0;34m:\u001b[0m\u001b[0;34m\u001b[0m\u001b[0;34m\u001b[0m\u001b[0m\n\u001b[0m\u001b[1;32m     10\u001b[0m         \u001b[0mcomp_var\u001b[0m \u001b[0;34m=\u001b[0m \u001b[0mget_composite_var\u001b[0m\u001b[0;34m(\u001b[0m\u001b[0mcomp\u001b[0m\u001b[0;34m)\u001b[0m\u001b[0;34m\u001b[0m\u001b[0;34m\u001b[0m\u001b[0m\n\u001b[1;32m     11\u001b[0m     \u001b[0mcov\u001b[0m \u001b[0;34m=\u001b[0m \u001b[0mcalc_cov\u001b[0m\u001b[0;34m(\u001b[0m\u001b[0mcomp_var\u001b[0m\u001b[0;34m[\u001b[0m\u001b[0mmetric\u001b[0m\u001b[0;34m]\u001b[0m\u001b[0;34m,\u001b[0m \u001b[0mstock\u001b[0m\u001b[0;34m,\u001b[0m \u001b[0mmetric\u001b[0m\u001b[0;34m)\u001b[0m\u001b[0;34m\u001b[0m\u001b[0;34m\u001b[0m\u001b[0m\n",
      "\u001b[0;31mTypeError\u001b[0m: 'NoneType' object is not subscriptable"
     ]
    }
   ],
   "source": [
    "calc_B_im(costco, nasdaq, 'Pct Return')"
   ]
  },
  {
   "cell_type": "code",
   "execution_count": 101,
   "metadata": {},
   "outputs": [],
   "source": [
    "stockList = ['COST', 'INTC', 'AAPL', 'TSLA'] # must download data first\n",
    "compName = 'NASDAQ'"
   ]
  },
  {
   "cell_type": "code",
   "execution_count": 112,
   "metadata": {},
   "outputs": [
    {
     "data": {
      "text/html": [
       "<div>\n",
       "<style scoped>\n",
       "    .dataframe tbody tr th:only-of-type {\n",
       "        vertical-align: middle;\n",
       "    }\n",
       "\n",
       "    .dataframe tbody tr th {\n",
       "        vertical-align: top;\n",
       "    }\n",
       "\n",
       "    .dataframe thead th {\n",
       "        text-align: right;\n",
       "    }\n",
       "</style>\n",
       "<table border=\"1\" class=\"dataframe\">\n",
       "  <thead>\n",
       "    <tr style=\"text-align: right;\">\n",
       "      <th></th>\n",
       "      <th>B_im</th>\n",
       "      <th>cov</th>\n",
       "    </tr>\n",
       "  </thead>\n",
       "  <tbody>\n",
       "    <tr>\n",
       "      <th>COST</th>\n",
       "      <td>9.458335e-34</td>\n",
       "      <td>7.835329e-34</td>\n",
       "    </tr>\n",
       "    <tr>\n",
       "      <th>INTC</th>\n",
       "      <td>4.764636e-33</td>\n",
       "      <td>3.947047e-33</td>\n",
       "    </tr>\n",
       "    <tr>\n",
       "      <th>AAPL</th>\n",
       "      <td>-6.810001e-33</td>\n",
       "      <td>-5.641437e-33</td>\n",
       "    </tr>\n",
       "    <tr>\n",
       "      <th>TSLA</th>\n",
       "      <td>-1.059333e-32</td>\n",
       "      <td>-8.775568e-33</td>\n",
       "    </tr>\n",
       "  </tbody>\n",
       "</table>\n",
       "</div>"
      ],
      "text/plain": [
       "              B_im           cov\n",
       "COST  9.458335e-34  7.835329e-34\n",
       "INTC  4.764636e-33  3.947047e-33\n",
       "AAPL -6.810001e-33 -5.641437e-33\n",
       "TSLA -1.059333e-32 -8.775568e-33"
      ]
     },
     "execution_count": 112,
     "metadata": {},
     "output_type": "execute_result"
    }
   ],
   "source": [
    "comp = load_stock('{}_10y.csv'.format(compName))\n",
    "comp_var = get_composite_var(comp)\n",
    "\n",
    "stocks = pd.DataFrame({'B_im': [0 for n in range(len(stockList))],\n",
    "                       'cov': [0 for n in range(len(stockList))]}, index=stockList)\n",
    "\n",
    "for stock in stockList:\n",
    "    stock_data = load_stock('{}_10y.csv'.format(stock))\n",
    "    stocks.loc[stock, 'B_im'] = calc_B_im(stock_data, comp, 'Pct Return', comp_var=comp_var)\n",
    "    stocks.loc[stock, 'cov'] = calc_cov(comp_var['Pct Return'], stock_data, 'Pct Return')\n",
    "\n",
    "stocks.head()"
   ]
  },
  {
   "cell_type": "code",
   "execution_count": 114,
   "metadata": {},
   "outputs": [],
   "source": [
    "R_om = min([abs(c) for c in stocks['cov']])"
   ]
  },
  {
   "cell_type": "code",
   "execution_count": null,
   "metadata": {},
   "outputs": [],
   "source": []
  }
 ],
 "metadata": {
  "kernelspec": {
   "display_name": "Python 3",
   "language": "python",
   "name": "python3"
  },
  "language_info": {
   "codemirror_mode": {
    "name": "ipython",
    "version": 3
   },
   "file_extension": ".py",
   "mimetype": "text/x-python",
   "name": "python",
   "nbconvert_exporter": "python",
   "pygments_lexer": "ipython3",
   "version": "3.7.6"
  }
 },
 "nbformat": 4,
 "nbformat_minor": 4
}
