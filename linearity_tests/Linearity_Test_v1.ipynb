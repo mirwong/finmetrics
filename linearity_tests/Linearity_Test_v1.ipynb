{
 "cells": [
  {
   "cell_type": "code",
   "execution_count": 1,
   "metadata": {},
   "outputs": [],
   "source": [
    "import copy\n",
    "import statistics\n",
    "import pandas as pd\n",
    "import numpy as np\n",
    "import matplotlib.pyplot as plt"
   ]
  },
  {
   "cell_type": "code",
   "execution_count": 2,
   "metadata": {},
   "outputs": [],
   "source": [
    "def calculate_daily_return(row):\n",
    "    return row['Close'] - row['Open']"
   ]
  },
  {
   "cell_type": "code",
   "execution_count": 3,
   "metadata": {},
   "outputs": [],
   "source": [
    "def expected_value(values):\n",
    "    return statistics.mean(values)"
   ]
  },
  {
   "cell_type": "code",
   "execution_count": 5,
   "metadata": {},
   "outputs": [],
   "source": [
    "def confidence_interval(data, confidence=0.95):\n",
    "    dist = statistics.NormalDist.from_samples(data)\n",
    "    z = statistics.NormalDist().inv_cdf((1 + confidence) / 2.)\n",
    "    h = dist.stdev * z / ((len(data) - 1) ** .5)\n",
    "    return dist.mean - h, dist.mean + h"
   ]
  },
  {
   "cell_type": "code",
   "execution_count": 6,
   "metadata": {},
   "outputs": [],
   "source": [
    "def load_stock(filename):\n",
    "    data = pd.read_csv('../yahoo/{}'.format(filename))\n",
    "    data['Gross Return'] = data.apply(calculate_daily_return, axis=1)\n",
    "    data['Pct Return'] = data.apply(lambda row: 100*row['Gross Return']/row['Open'], axis=1)\n",
    "    return data"
   ]
  },
  {
   "cell_type": "code",
   "execution_count": 7,
   "metadata": {
    "scrolled": true
   },
   "outputs": [
    {
     "data": {
      "text/html": [
       "<div>\n",
       "<style scoped>\n",
       "    .dataframe tbody tr th:only-of-type {\n",
       "        vertical-align: middle;\n",
       "    }\n",
       "\n",
       "    .dataframe tbody tr th {\n",
       "        vertical-align: top;\n",
       "    }\n",
       "\n",
       "    .dataframe thead th {\n",
       "        text-align: right;\n",
       "    }\n",
       "</style>\n",
       "<table border=\"1\" class=\"dataframe\">\n",
       "  <thead>\n",
       "    <tr style=\"text-align: right;\">\n",
       "      <th></th>\n",
       "      <th>Date</th>\n",
       "      <th>Open</th>\n",
       "      <th>High</th>\n",
       "      <th>Low</th>\n",
       "      <th>Close</th>\n",
       "      <th>Adj Close</th>\n",
       "      <th>Volume</th>\n",
       "      <th>Gross Return</th>\n",
       "      <th>Pct Return</th>\n",
       "    </tr>\n",
       "  </thead>\n",
       "  <tbody>\n",
       "    <tr>\n",
       "      <th>0</th>\n",
       "      <td>2010-09-07</td>\n",
       "      <td>2227.260010</td>\n",
       "      <td>2231.280029</td>\n",
       "      <td>2206.620117</td>\n",
       "      <td>2208.889893</td>\n",
       "      <td>2208.889893</td>\n",
       "      <td>1685240000</td>\n",
       "      <td>-18.370117</td>\n",
       "      <td>-0.824785</td>\n",
       "    </tr>\n",
       "    <tr>\n",
       "      <th>1</th>\n",
       "      <td>2010-09-08</td>\n",
       "      <td>2216.070068</td>\n",
       "      <td>2237.419922</td>\n",
       "      <td>2215.899902</td>\n",
       "      <td>2228.870117</td>\n",
       "      <td>2228.870117</td>\n",
       "      <td>2018210000</td>\n",
       "      <td>12.800049</td>\n",
       "      <td>0.577601</td>\n",
       "    </tr>\n",
       "    <tr>\n",
       "      <th>2</th>\n",
       "      <td>2010-09-09</td>\n",
       "      <td>2251.090088</td>\n",
       "      <td>2251.979980</td>\n",
       "      <td>2229.800049</td>\n",
       "      <td>2236.199951</td>\n",
       "      <td>2236.199951</td>\n",
       "      <td>1706650000</td>\n",
       "      <td>-14.890137</td>\n",
       "      <td>-0.661463</td>\n",
       "    </tr>\n",
       "    <tr>\n",
       "      <th>3</th>\n",
       "      <td>2010-09-10</td>\n",
       "      <td>2239.080078</td>\n",
       "      <td>2246.600098</td>\n",
       "      <td>2229.120117</td>\n",
       "      <td>2242.479980</td>\n",
       "      <td>2242.479980</td>\n",
       "      <td>1692470000</td>\n",
       "      <td>3.399902</td>\n",
       "      <td>0.151844</td>\n",
       "    </tr>\n",
       "    <tr>\n",
       "      <th>4</th>\n",
       "      <td>2010-09-13</td>\n",
       "      <td>2263.800049</td>\n",
       "      <td>2289.489990</td>\n",
       "      <td>2263.689941</td>\n",
       "      <td>2285.709961</td>\n",
       "      <td>2285.709961</td>\n",
       "      <td>1937630000</td>\n",
       "      <td>21.909912</td>\n",
       "      <td>0.967838</td>\n",
       "    </tr>\n",
       "  </tbody>\n",
       "</table>\n",
       "</div>"
      ],
      "text/plain": [
       "         Date         Open         High          Low        Close  \\\n",
       "0  2010-09-07  2227.260010  2231.280029  2206.620117  2208.889893   \n",
       "1  2010-09-08  2216.070068  2237.419922  2215.899902  2228.870117   \n",
       "2  2010-09-09  2251.090088  2251.979980  2229.800049  2236.199951   \n",
       "3  2010-09-10  2239.080078  2246.600098  2229.120117  2242.479980   \n",
       "4  2010-09-13  2263.800049  2289.489990  2263.689941  2285.709961   \n",
       "\n",
       "     Adj Close      Volume  Gross Return  Pct Return  \n",
       "0  2208.889893  1685240000    -18.370117   -0.824785  \n",
       "1  2228.870117  2018210000     12.800049    0.577601  \n",
       "2  2236.199951  1706650000    -14.890137   -0.661463  \n",
       "3  2242.479980  1692470000      3.399902    0.151844  \n",
       "4  2285.709961  1937630000     21.909912    0.967838  "
      ]
     },
     "execution_count": 7,
     "metadata": {},
     "output_type": "execute_result"
    }
   ],
   "source": [
    "nasdaq = load_stock('NASDAQ_10y.csv')\n",
    "nasdaq.head()"
   ]
  },
  {
   "cell_type": "code",
   "execution_count": 9,
   "metadata": {},
   "outputs": [],
   "source": [
    "def get_composite_var(composite):\n",
    "    return composite.var()\n",
    "\n",
    "def calc_cov(comp, stock, metric):\n",
    "#     cov_data = pd.DataFrame()\n",
    "    dates = list(stock['Date'])\n",
    "    cov_data = pd.DataFrame({'Date': dates,\n",
    "                            'Comp Met': [comp.iloc[i][metric] for i in range(len(comp.index)) if comp.iloc[i]['Date'] in dates],\n",
    "                            'Stock Met': [stock.iloc[i][metric] for i in range(len(stock.index))]})\n",
    "#     cov_data['Comp Metric'] = cov_data.apply(lambda row: comp[comp['Date'] == row[1][0]][metric])\n",
    "#     cov_data['Stock Metric'] = cov_data.apply(lambda row: stock[stock['Date'] == row[1][0]][metric])\n",
    "#     for row in stock.iterrows():\n",
    "#         comp_row = comp.loc[comp['Date']==row['Date']]\n",
    "#         print(comp_row)\n",
    "#         comp_met = comp[metric]\n",
    "#         stock_met = row[metric]\n",
    "#         cov_data.append([row['Date'], comp_met, stock_met])\n",
    "#     cov_data.columns = ['Date', 'Comp Met', 'Stock Met']\n",
    "#     print(cov_data.head())\n",
    "    return cov_data['Stock Met'].cov(cov_data['Comp Met'])\n",
    "\n",
    "def calc_B_im(stock, comp, metric, comp_var=None, cov=None):\n",
    "    if comp_var[metric] == None:\n",
    "        comp_var = get_composite_var(comp)\n",
    "    if cov == None:\n",
    "        cov = calc_cov(comp, stock, metric)\n",
    "    return cov/comp_var[metric]"
   ]
  },
  {
   "cell_type": "code",
   "execution_count": 10,
   "metadata": {},
   "outputs": [
    {
     "data": {
      "text/html": [
       "<div>\n",
       "<style scoped>\n",
       "    .dataframe tbody tr th:only-of-type {\n",
       "        vertical-align: middle;\n",
       "    }\n",
       "\n",
       "    .dataframe tbody tr th {\n",
       "        vertical-align: top;\n",
       "    }\n",
       "\n",
       "    .dataframe thead th {\n",
       "        text-align: right;\n",
       "    }\n",
       "</style>\n",
       "<table border=\"1\" class=\"dataframe\">\n",
       "  <thead>\n",
       "    <tr style=\"text-align: right;\">\n",
       "      <th></th>\n",
       "      <th>Date</th>\n",
       "      <th>Open</th>\n",
       "      <th>High</th>\n",
       "      <th>Low</th>\n",
       "      <th>Close</th>\n",
       "      <th>Adj Close</th>\n",
       "      <th>Volume</th>\n",
       "      <th>Gross Return</th>\n",
       "      <th>Pct Return</th>\n",
       "    </tr>\n",
       "  </thead>\n",
       "  <tbody>\n",
       "    <tr>\n",
       "      <th>0</th>\n",
       "      <td>2010-09-07</td>\n",
       "      <td>58.250000</td>\n",
       "      <td>59.000000</td>\n",
       "      <td>58.200001</td>\n",
       "      <td>58.639999</td>\n",
       "      <td>45.681999</td>\n",
       "      <td>2598500</td>\n",
       "      <td>0.389999</td>\n",
       "      <td>0.669526</td>\n",
       "    </tr>\n",
       "    <tr>\n",
       "      <th>1</th>\n",
       "      <td>2010-09-08</td>\n",
       "      <td>59.369999</td>\n",
       "      <td>59.419998</td>\n",
       "      <td>58.799999</td>\n",
       "      <td>59.209999</td>\n",
       "      <td>46.126049</td>\n",
       "      <td>3412700</td>\n",
       "      <td>-0.160000</td>\n",
       "      <td>-0.269496</td>\n",
       "    </tr>\n",
       "    <tr>\n",
       "      <th>2</th>\n",
       "      <td>2010-09-09</td>\n",
       "      <td>59.500000</td>\n",
       "      <td>59.509998</td>\n",
       "      <td>58.830002</td>\n",
       "      <td>58.939999</td>\n",
       "      <td>45.915714</td>\n",
       "      <td>2622900</td>\n",
       "      <td>-0.560001</td>\n",
       "      <td>-0.941178</td>\n",
       "    </tr>\n",
       "    <tr>\n",
       "      <th>3</th>\n",
       "      <td>2010-09-10</td>\n",
       "      <td>59.299999</td>\n",
       "      <td>59.790001</td>\n",
       "      <td>59.139999</td>\n",
       "      <td>59.540001</td>\n",
       "      <td>46.383121</td>\n",
       "      <td>2608600</td>\n",
       "      <td>0.240002</td>\n",
       "      <td>0.404725</td>\n",
       "    </tr>\n",
       "    <tr>\n",
       "      <th>4</th>\n",
       "      <td>2010-09-13</td>\n",
       "      <td>59.820000</td>\n",
       "      <td>60.230000</td>\n",
       "      <td>59.410000</td>\n",
       "      <td>60.049999</td>\n",
       "      <td>46.780426</td>\n",
       "      <td>3107800</td>\n",
       "      <td>0.229999</td>\n",
       "      <td>0.384485</td>\n",
       "    </tr>\n",
       "  </tbody>\n",
       "</table>\n",
       "</div>"
      ],
      "text/plain": [
       "         Date       Open       High        Low      Close  Adj Close   Volume  \\\n",
       "0  2010-09-07  58.250000  59.000000  58.200001  58.639999  45.681999  2598500   \n",
       "1  2010-09-08  59.369999  59.419998  58.799999  59.209999  46.126049  3412700   \n",
       "2  2010-09-09  59.500000  59.509998  58.830002  58.939999  45.915714  2622900   \n",
       "3  2010-09-10  59.299999  59.790001  59.139999  59.540001  46.383121  2608600   \n",
       "4  2010-09-13  59.820000  60.230000  59.410000  60.049999  46.780426  3107800   \n",
       "\n",
       "   Gross Return  Pct Return  \n",
       "0      0.389999    0.669526  \n",
       "1     -0.160000   -0.269496  \n",
       "2     -0.560001   -0.941178  \n",
       "3      0.240002    0.404725  \n",
       "4      0.229999    0.384485  "
      ]
     },
     "execution_count": 10,
     "metadata": {},
     "output_type": "execute_result"
    }
   ],
   "source": [
    "costco = load_stock('COST_10y.csv')\n",
    "costco.head()"
   ]
  },
  {
   "cell_type": "code",
   "execution_count": 11,
   "metadata": {},
   "outputs": [],
   "source": [
    "stockList = ['COST', 'INTC', 'AAPL', 'TSLA'] # must download data first\n",
    "compName = 'NASDAQ'"
   ]
  },
  {
   "cell_type": "code",
   "execution_count": 12,
   "metadata": {
    "scrolled": true
   },
   "outputs": [],
   "source": [
    "comp = load_stock('{}_10y.csv'.format(compName))\n",
    "comp_var = get_composite_var(comp)\n",
    "\n",
    "stocks = pd.DataFrame({'B_im': [0 for n in range(len(stockList))],\n",
    "                       'cov': [0 for n in range(len(stockList))]}, index=stockList)"
   ]
  },
  {
   "cell_type": "code",
   "execution_count": 13,
   "metadata": {
    "scrolled": true
   },
   "outputs": [
    {
     "name": "stdout",
     "output_type": "stream",
     "text": [
      "0.4534053195775454\n",
      "0.76623022495661\n",
      "0.8417945343211959\n",
      "1.07379490147016\n"
     ]
    }
   ],
   "source": [
    "for stock in stockList:\n",
    "    stock_data = load_stock('{}_10y.csv'.format(stock))\n",
    "    c = calc_cov(comp, stock_data, 'Pct Return')\n",
    "    stocks.loc[stock, 'cov'] = c\n",
    "    stocks.loc[stock, 'B_im'] = calc_B_im(stock_data, comp, 'Pct Return', comp_var=comp_var, cov=c)"
   ]
  },
  {
   "cell_type": "code",
   "execution_count": 15,
   "metadata": {
    "scrolled": true
   },
   "outputs": [
    {
     "data": {
      "text/html": [
       "<div>\n",
       "<style scoped>\n",
       "    .dataframe tbody tr th:only-of-type {\n",
       "        vertical-align: middle;\n",
       "    }\n",
       "\n",
       "    .dataframe tbody tr th {\n",
       "        vertical-align: top;\n",
       "    }\n",
       "\n",
       "    .dataframe thead th {\n",
       "        text-align: right;\n",
       "    }\n",
       "</style>\n",
       "<table border=\"1\" class=\"dataframe\">\n",
       "  <thead>\n",
       "    <tr style=\"text-align: right;\">\n",
       "      <th></th>\n",
       "      <th>Comp Return</th>\n",
       "      <th>COST Return</th>\n",
       "      <th>INTC Return</th>\n",
       "      <th>AAPL Return</th>\n",
       "      <th>TSLA Return</th>\n",
       "    </tr>\n",
       "  </thead>\n",
       "  <tbody>\n",
       "    <tr>\n",
       "      <th>0</th>\n",
       "      <td>-0.824785</td>\n",
       "      <td>0.669526</td>\n",
       "      <td>-1.307189</td>\n",
       "      <td>0.455895</td>\n",
       "      <td>-0.339641</td>\n",
       "    </tr>\n",
       "    <tr>\n",
       "      <th>1</th>\n",
       "      <td>0.577601</td>\n",
       "      <td>-0.269496</td>\n",
       "      <td>-0.776059</td>\n",
       "      <td>1.208717</td>\n",
       "      <td>1.161665</td>\n",
       "    </tr>\n",
       "    <tr>\n",
       "      <th>2</th>\n",
       "      <td>-0.661463</td>\n",
       "      <td>-0.941178</td>\n",
       "      <td>-0.277003</td>\n",
       "      <td>-0.743283</td>\n",
       "      <td>-1.380952</td>\n",
       "    </tr>\n",
       "    <tr>\n",
       "      <th>3</th>\n",
       "      <td>0.151844</td>\n",
       "      <td>0.404725</td>\n",
       "      <td>0.111409</td>\n",
       "      <td>0.083588</td>\n",
       "      <td>-2.795181</td>\n",
       "    </tr>\n",
       "    <tr>\n",
       "      <th>4</th>\n",
       "      <td>0.967838</td>\n",
       "      <td>0.384485</td>\n",
       "      <td>1.866081</td>\n",
       "      <td>0.458963</td>\n",
       "      <td>-0.813787</td>\n",
       "    </tr>\n",
       "  </tbody>\n",
       "</table>\n",
       "</div>"
      ],
      "text/plain": [
       "   Comp Return  COST Return  INTC Return  AAPL Return  TSLA Return\n",
       "0    -0.824785     0.669526    -1.307189     0.455895    -0.339641\n",
       "1     0.577601    -0.269496    -0.776059     1.208717     1.161665\n",
       "2    -0.661463    -0.941178    -0.277003    -0.743283    -1.380952\n",
       "3     0.151844     0.404725     0.111409     0.083588    -2.795181\n",
       "4     0.967838     0.384485     1.866081     0.458963    -0.813787"
      ]
     },
     "execution_count": 15,
     "metadata": {},
     "output_type": "execute_result"
    }
   ],
   "source": [
    "daily_data = pd.DataFrame({'Comp Return' : comp['Pct Return']})\n",
    "for stock in stockList:\n",
    "    stock_data = load_stock('{}_10y.csv'.format(stock))\n",
    "    daily_data['{} Return'.format(stock)] = stock_data['Pct Return']\n",
    "daily_data.head()"
   ]
  },
  {
   "cell_type": "code",
   "execution_count": 16,
   "metadata": {
    "scrolled": true
   },
   "outputs": [
    {
     "data": {
      "text/plain": [
       "0      -1.307189\n",
       "1      -0.776059\n",
       "2      -1.380952\n",
       "3      -2.795181\n",
       "4      -0.813787\n",
       "          ...   \n",
       "2513   -0.098037\n",
       "2514   -5.394915\n",
       "2515   -6.601390\n",
       "2516   -4.751404\n",
       "2517   -2.093340\n",
       "Length: 2518, dtype: float64"
      ]
     },
     "execution_count": 16,
     "metadata": {},
     "output_type": "execute_result"
    }
   ],
   "source": [
    "R_om = min([abs(c) for c in stocks['cov']])\n",
    "R_om = pd.Series([min(list(row)) for index, row in daily_data.iterrows()])\n",
    "R_om"
   ]
  },
  {
   "cell_type": "code",
   "execution_count": 17,
   "metadata": {},
   "outputs": [
    {
     "data": {
      "text/plain": [
       "0.032708829851526414"
      ]
     },
     "execution_count": 17,
     "metadata": {},
     "output_type": "execute_result"
    }
   ],
   "source": [
    "def calc_E_rm(series, mult_columns=True):\n",
    "    if mult_columns:\n",
    "        t = np.trapz(series['Pct Return'])/len(series.index)\n",
    "    else:\n",
    "        t = np.trapz(series)/len(series.index)\n",
    "    return t\n",
    "calc_E_rm(comp)"
   ]
  },
  {
   "cell_type": "code",
   "execution_count": 18,
   "metadata": {},
   "outputs": [],
   "source": [
    "def get_a_im(R_om, stocks, stocklist):\n",
    "    expected_R_om = calc_E_rm(R_om, mult_columns=False)\n",
    "    a_ims = []\n",
    "    for stockName in stockList:\n",
    "        parentheses = float(1.0 - stocks['B_im'][stockName])\n",
    "        a_ims.append(expected_R_om * parentheses)\n",
    "    stocks['a_im'] = a_ims\n",
    "    return stocks"
   ]
  },
  {
   "cell_type": "code",
   "execution_count": 19,
   "metadata": {
    "scrolled": false
   },
   "outputs": [
    {
     "data": {
      "text/html": [
       "<div>\n",
       "<style scoped>\n",
       "    .dataframe tbody tr th:only-of-type {\n",
       "        vertical-align: middle;\n",
       "    }\n",
       "\n",
       "    .dataframe tbody tr th {\n",
       "        vertical-align: top;\n",
       "    }\n",
       "\n",
       "    .dataframe thead th {\n",
       "        text-align: right;\n",
       "    }\n",
       "</style>\n",
       "<table border=\"1\" class=\"dataframe\">\n",
       "  <thead>\n",
       "    <tr style=\"text-align: right;\">\n",
       "      <th></th>\n",
       "      <th>B_im</th>\n",
       "      <th>cov</th>\n",
       "      <th>a_im</th>\n",
       "    </tr>\n",
       "  </thead>\n",
       "  <tbody>\n",
       "    <tr>\n",
       "      <th>COST</th>\n",
       "      <td>0.547323</td>\n",
       "      <td>0.453405</td>\n",
       "      <td>-0.607848</td>\n",
       "    </tr>\n",
       "    <tr>\n",
       "      <th>INTC</th>\n",
       "      <td>0.924947</td>\n",
       "      <td>0.766230</td>\n",
       "      <td>-0.100781</td>\n",
       "    </tr>\n",
       "    <tr>\n",
       "      <th>AAPL</th>\n",
       "      <td>1.016163</td>\n",
       "      <td>0.841795</td>\n",
       "      <td>0.021704</td>\n",
       "    </tr>\n",
       "    <tr>\n",
       "      <th>TSLA</th>\n",
       "      <td>1.296220</td>\n",
       "      <td>1.073795</td>\n",
       "      <td>0.397761</td>\n",
       "    </tr>\n",
       "  </tbody>\n",
       "</table>\n",
       "</div>"
      ],
      "text/plain": [
       "          B_im       cov      a_im\n",
       "COST  0.547323  0.453405 -0.607848\n",
       "INTC  0.924947  0.766230 -0.100781\n",
       "AAPL  1.016163  0.841795  0.021704\n",
       "TSLA  1.296220  1.073795  0.397761"
      ]
     },
     "execution_count": 19,
     "metadata": {},
     "output_type": "execute_result"
    }
   ],
   "source": [
    "stocks = get_a_im(R_om, stocks, stockList)\n",
    "stocks"
   ]
  },
  {
   "cell_type": "code",
   "execution_count": null,
   "metadata": {},
   "outputs": [],
   "source": [
    "def weighted_portfolio(stocks, weights=[]):\n",
    "    if len(weights) != len(stocks.index):\n",
    "        weights = [1/len(stocks.index) for i in range(stocks.index)]\n",
    "    portfolio = copy.copy(stocks)\n",
    "    portfolio.append()"
   ]
  },
  {
   "cell_type": "code",
   "execution_count": 34,
   "metadata": {
    "scrolled": true
   },
   "outputs": [
    {
     "data": {
      "text/html": [
       "<div>\n",
       "<style scoped>\n",
       "    .dataframe tbody tr th:only-of-type {\n",
       "        vertical-align: middle;\n",
       "    }\n",
       "\n",
       "    .dataframe tbody tr th {\n",
       "        vertical-align: top;\n",
       "    }\n",
       "\n",
       "    .dataframe thead th {\n",
       "        text-align: right;\n",
       "    }\n",
       "</style>\n",
       "<table border=\"1\" class=\"dataframe\">\n",
       "  <thead>\n",
       "    <tr style=\"text-align: right;\">\n",
       "      <th></th>\n",
       "      <th>Date</th>\n",
       "      <th>R_m</th>\n",
       "      <th>R_i COST</th>\n",
       "      <th>True COST</th>\n",
       "      <th>R_i INTC</th>\n",
       "      <th>True INTC</th>\n",
       "      <th>R_i AAPL</th>\n",
       "      <th>True AAPL</th>\n",
       "      <th>R_i TSLA</th>\n",
       "      <th>True TSLA</th>\n",
       "    </tr>\n",
       "  </thead>\n",
       "  <tbody>\n",
       "    <tr>\n",
       "      <th>0</th>\n",
       "      <td>2010-09-07</td>\n",
       "      <td>-0.824785</td>\n",
       "      <td>-1.059273</td>\n",
       "      <td>0.669526</td>\n",
       "      <td>-0.863663</td>\n",
       "      <td>-1.307189</td>\n",
       "      <td>-0.816413</td>\n",
       "      <td>0.455895</td>\n",
       "      <td>-0.671343</td>\n",
       "      <td>-0.339641</td>\n",
       "    </tr>\n",
       "    <tr>\n",
       "      <th>1</th>\n",
       "      <td>2010-09-08</td>\n",
       "      <td>0.577601</td>\n",
       "      <td>-0.291714</td>\n",
       "      <td>-0.269496</td>\n",
       "      <td>0.433470</td>\n",
       "      <td>-0.776059</td>\n",
       "      <td>0.608641</td>\n",
       "      <td>1.208717</td>\n",
       "      <td>1.146459</td>\n",
       "      <td>1.161665</td>\n",
       "    </tr>\n",
       "    <tr>\n",
       "      <th>2</th>\n",
       "      <td>2010-09-09</td>\n",
       "      <td>-0.661463</td>\n",
       "      <td>-0.969883</td>\n",
       "      <td>-0.941178</td>\n",
       "      <td>-0.712599</td>\n",
       "      <td>-0.277003</td>\n",
       "      <td>-0.650451</td>\n",
       "      <td>-0.743283</td>\n",
       "      <td>-0.459641</td>\n",
       "      <td>-1.380952</td>\n",
       "    </tr>\n",
       "    <tr>\n",
       "      <th>3</th>\n",
       "      <td>2010-09-10</td>\n",
       "      <td>0.151844</td>\n",
       "      <td>-0.524741</td>\n",
       "      <td>0.404725</td>\n",
       "      <td>0.039667</td>\n",
       "      <td>0.111409</td>\n",
       "      <td>0.176002</td>\n",
       "      <td>0.083588</td>\n",
       "      <td>0.594584</td>\n",
       "      <td>-2.795181</td>\n",
       "    </tr>\n",
       "    <tr>\n",
       "      <th>4</th>\n",
       "      <td>2010-09-13</td>\n",
       "      <td>0.967838</td>\n",
       "      <td>-0.078128</td>\n",
       "      <td>0.384485</td>\n",
       "      <td>0.794418</td>\n",
       "      <td>1.866081</td>\n",
       "      <td>1.005185</td>\n",
       "      <td>0.458963</td>\n",
       "      <td>1.652292</td>\n",
       "      <td>-0.813787</td>\n",
       "    </tr>\n",
       "    <tr>\n",
       "      <th>...</th>\n",
       "      <td>...</td>\n",
       "      <td>...</td>\n",
       "      <td>...</td>\n",
       "      <td>...</td>\n",
       "      <td>...</td>\n",
       "      <td>...</td>\n",
       "      <td>...</td>\n",
       "      <td>...</td>\n",
       "      <td>...</td>\n",
       "      <td>...</td>\n",
       "    </tr>\n",
       "    <tr>\n",
       "      <th>2513</th>\n",
       "      <td>2020-08-31</td>\n",
       "      <td>0.483414</td>\n",
       "      <td>-0.343265</td>\n",
       "      <td>0.233530</td>\n",
       "      <td>0.346352</td>\n",
       "      <td>-0.098037</td>\n",
       "      <td>0.512932</td>\n",
       "      <td>1.144373</td>\n",
       "      <td>1.024372</td>\n",
       "      <td>12.080255</td>\n",
       "    </tr>\n",
       "    <tr>\n",
       "      <th>2514</th>\n",
       "      <td>2020-09-01</td>\n",
       "      <td>0.748547</td>\n",
       "      <td>-0.198151</td>\n",
       "      <td>1.640107</td>\n",
       "      <td>0.591585</td>\n",
       "      <td>-0.235708</td>\n",
       "      <td>0.782350</td>\n",
       "      <td>1.069598</td>\n",
       "      <td>1.368042</td>\n",
       "      <td>-5.394915</td>\n",
       "    </tr>\n",
       "    <tr>\n",
       "      <th>2515</th>\n",
       "      <td>2020-09-02</td>\n",
       "      <td>0.076205</td>\n",
       "      <td>-0.566139</td>\n",
       "      <td>1.484687</td>\n",
       "      <td>-0.030295</td>\n",
       "      <td>2.030855</td>\n",
       "      <td>0.099141</td>\n",
       "      <td>-4.498875</td>\n",
       "      <td>0.496540</td>\n",
       "      <td>-6.601390</td>\n",
       "    </tr>\n",
       "    <tr>\n",
       "      <th>2516</th>\n",
       "      <td>2020-09-03</td>\n",
       "      <td>-3.404183</td>\n",
       "      <td>-2.471038</td>\n",
       "      <td>-4.068091</td>\n",
       "      <td>-3.249468</td>\n",
       "      <td>-4.019050</td>\n",
       "      <td>-3.437502</td>\n",
       "      <td>-4.751404</td>\n",
       "      <td>-4.014810</td>\n",
       "      <td>-0.056482</td>\n",
       "    </tr>\n",
       "    <tr>\n",
       "      <th>2517</th>\n",
       "      <td>2020-09-04</td>\n",
       "      <td>-0.728887</td>\n",
       "      <td>-1.006785</td>\n",
       "      <td>-2.093340</td>\n",
       "      <td>-0.774962</td>\n",
       "      <td>-0.890554</td>\n",
       "      <td>-0.718964</td>\n",
       "      <td>0.741233</td>\n",
       "      <td>-0.547037</td>\n",
       "      <td>3.850453</td>\n",
       "    </tr>\n",
       "  </tbody>\n",
       "</table>\n",
       "<p>2518 rows × 10 columns</p>\n",
       "</div>"
      ],
      "text/plain": [
       "            Date       R_m  R_i COST  True COST  R_i INTC  True INTC  \\\n",
       "0     2010-09-07 -0.824785 -1.059273   0.669526 -0.863663  -1.307189   \n",
       "1     2010-09-08  0.577601 -0.291714  -0.269496  0.433470  -0.776059   \n",
       "2     2010-09-09 -0.661463 -0.969883  -0.941178 -0.712599  -0.277003   \n",
       "3     2010-09-10  0.151844 -0.524741   0.404725  0.039667   0.111409   \n",
       "4     2010-09-13  0.967838 -0.078128   0.384485  0.794418   1.866081   \n",
       "...          ...       ...       ...        ...       ...        ...   \n",
       "2513  2020-08-31  0.483414 -0.343265   0.233530  0.346352  -0.098037   \n",
       "2514  2020-09-01  0.748547 -0.198151   1.640107  0.591585  -0.235708   \n",
       "2515  2020-09-02  0.076205 -0.566139   1.484687 -0.030295   2.030855   \n",
       "2516  2020-09-03 -3.404183 -2.471038  -4.068091 -3.249468  -4.019050   \n",
       "2517  2020-09-04 -0.728887 -1.006785  -2.093340 -0.774962  -0.890554   \n",
       "\n",
       "      R_i AAPL  True AAPL  R_i TSLA  True TSLA  \n",
       "0    -0.816413   0.455895 -0.671343  -0.339641  \n",
       "1     0.608641   1.208717  1.146459   1.161665  \n",
       "2    -0.650451  -0.743283 -0.459641  -1.380952  \n",
       "3     0.176002   0.083588  0.594584  -2.795181  \n",
       "4     1.005185   0.458963  1.652292  -0.813787  \n",
       "...        ...        ...       ...        ...  \n",
       "2513  0.512932   1.144373  1.024372  12.080255  \n",
       "2514  0.782350   1.069598  1.368042  -5.394915  \n",
       "2515  0.099141  -4.498875  0.496540  -6.601390  \n",
       "2516 -3.437502  -4.751404 -4.014810  -0.056482  \n",
       "2517 -0.718964   0.741233 -0.547037   3.850453  \n",
       "\n",
       "[2518 rows x 10 columns]"
      ]
     },
     "execution_count": 34,
     "metadata": {},
     "output_type": "execute_result"
    }
   ],
   "source": [
    "regression = pd.DataFrame({'Date': copy.copy(comp['Date']),\n",
    "                           'R_m': copy.copy(comp['Pct Return'])})\n",
    "for stock in stocks.index:\n",
    "    regression['R_i {}'.format(stock)] = regression.apply(lambda row: stocks.loc[stock, 'B_im']*row['R_m'] + stocks.loc[stock, 'a_im'], axis=1)\n",
    "    regression['True {}'.format(stock)] = copy.copy(load_stock('{}_10y.csv'.format(stock))['Pct Return'])\n",
    "regression"
   ]
  },
  {
   "cell_type": "code",
   "execution_count": 78,
   "metadata": {},
   "outputs": [],
   "source": [
    "def plot_reg(stocks, regression):\n",
    "    plt.figure(figsize=(15, 10))\n",
    "    axes = plt.gca()\n",
    "    axes.set_xlabel('R_m: market return')\n",
    "    axes.set_ylabel('R_i for all i: regressed return per stock')\n",
    "    r2_list = []\n",
    "    for stock in stocks.index:\n",
    "        plt.plot(regression['R_m'], regression['R_i {}'.format(stock)], label='{} reg'.format(stock))\n",
    "        plt.scatter(list(regression['R_m'])[::10], list(regression['True {}'.format(stock)])[::10], label='{} values'.format(stock))\n",
    "        \n",
    "        correlation_matrix = np.corrcoef(regression['R_i {}'.format(stock)], regression['True {}'.format(stock)])\n",
    "        correlation_xy = correlation_matrix[0,1]\n",
    "        r_squared = correlation_xy**2\n",
    "        r2_list.append(r_squared)\n",
    "    plt.legend()\n",
    "    plt.title('CAPM Regression compared to NASDAQ composite')\n",
    "    plt.show()\n",
    "    return r2_list"
   ]
  },
  {
   "cell_type": "code",
   "execution_count": 79,
   "metadata": {
    "scrolled": true
   },
   "outputs": [
    {
     "data": {
      "image/png": "[encoded data removed]",
      "text/plain": [
       "<Figure size 1080x720 with 1 Axes>"
      ]
     },
     "metadata": {
      "needs_background": "light"
     },
     "output_type": "display_data"
    }
   ],
   "source": [
    "r2 = plot_reg(stocks, regression)"
   ]
  },
  {
   "cell_type": "code",
   "execution_count": null,
   "metadata": {},
   "outputs": [],
   "source": [
    "## https://www.kite.com/python/answers/how-to-calculate-r-squared-with-numpy-in-python\n",
    "\n",
    "x_values = [1,2,3]\n",
    "y_values = [1,5,25]\n",
    "\n",
    "correlation_matrix = np.corrcoef(x_values, y_values)\n",
    "correlation_xy = correlation_matrix[0,1]\n",
    "r_squared = correlation_xy**2\n",
    "\n",
    "print(r_squared)"
   ]
  },
  {
   "cell_type": "code",
   "execution_count": 68,
   "metadata": {},
   "outputs": [
    {
     "data": {
      "text/plain": [
       "(-0.003156899863176209, 0.06795753314186687)"
      ]
     },
     "execution_count": 68,
     "metadata": {},
     "output_type": "execute_result"
    }
   ],
   "source": [
    "zero_int = confidence_interval(list(nasdaq['Pct Return']))\n",
    "zero_int"
   ]
  },
  {
   "cell_type": "code",
   "execution_count": 69,
   "metadata": {
    "scrolled": true
   },
   "outputs": [
    {
     "data": {
      "text/plain": [
       "COST   -0.607848\n",
       "INTC   -0.100781\n",
       "AAPL    0.021704\n",
       "TSLA    0.397761\n",
       "Name: a_im, dtype: float64"
      ]
     },
     "execution_count": 69,
     "metadata": {},
     "output_type": "execute_result"
    }
   ],
   "source": [
    "stocks['a_im']"
   ]
  },
  {
   "cell_type": "code",
   "execution_count": 31,
   "metadata": {
    "scrolled": true
   },
   "outputs": [
    {
     "data": {
      "text/html": [
       "<div>\n",
       "<style scoped>\n",
       "    .dataframe tbody tr th:only-of-type {\n",
       "        vertical-align: middle;\n",
       "    }\n",
       "\n",
       "    .dataframe tbody tr th {\n",
       "        vertical-align: top;\n",
       "    }\n",
       "\n",
       "    .dataframe thead th {\n",
       "        text-align: right;\n",
       "    }\n",
       "</style>\n",
       "<table border=\"1\" class=\"dataframe\">\n",
       "  <thead>\n",
       "    <tr style=\"text-align: right;\">\n",
       "      <th></th>\n",
       "      <th>B_im</th>\n",
       "      <th>cov</th>\n",
       "      <th>a_im</th>\n",
       "      <th>Zero intercept</th>\n",
       "      <th>Zero intercept (95% confidence)</th>\n",
       "      <th>Zero intercept (95% conf)</th>\n",
       "    </tr>\n",
       "  </thead>\n",
       "  <tbody>\n",
       "    <tr>\n",
       "      <th>COST</th>\n",
       "      <td>0.547323</td>\n",
       "      <td>0.453405</td>\n",
       "      <td>-0.607848</td>\n",
       "      <td>False</td>\n",
       "      <td>False</td>\n",
       "      <td>False</td>\n",
       "    </tr>\n",
       "    <tr>\n",
       "      <th>INTC</th>\n",
       "      <td>0.924947</td>\n",
       "      <td>0.766230</td>\n",
       "      <td>-0.100781</td>\n",
       "      <td>False</td>\n",
       "      <td>False</td>\n",
       "      <td>False</td>\n",
       "    </tr>\n",
       "    <tr>\n",
       "      <th>AAPL</th>\n",
       "      <td>1.016163</td>\n",
       "      <td>0.841795</td>\n",
       "      <td>0.021704</td>\n",
       "      <td>True</td>\n",
       "      <td>True</td>\n",
       "      <td>True</td>\n",
       "    </tr>\n",
       "    <tr>\n",
       "      <th>TSLA</th>\n",
       "      <td>1.296220</td>\n",
       "      <td>1.073795</td>\n",
       "      <td>0.397761</td>\n",
       "      <td>False</td>\n",
       "      <td>False</td>\n",
       "      <td>False</td>\n",
       "    </tr>\n",
       "  </tbody>\n",
       "</table>\n",
       "</div>"
      ],
      "text/plain": [
       "          B_im       cov      a_im  Zero intercept  \\\n",
       "COST  0.547323  0.453405 -0.607848           False   \n",
       "INTC  0.924947  0.766230 -0.100781           False   \n",
       "AAPL  1.016163  0.841795  0.021704            True   \n",
       "TSLA  1.296220  1.073795  0.397761           False   \n",
       "\n",
       "      Zero intercept (95% confidence)  Zero intercept (95% conf)  \n",
       "COST                            False                      False  \n",
       "INTC                            False                      False  \n",
       "AAPL                             True                       True  \n",
       "TSLA                            False                      False  "
      ]
     },
     "execution_count": 31,
     "metadata": {},
     "output_type": "execute_result"
    }
   ],
   "source": [
    "stocks['Zero intercept (95% conf)'] = stocks.apply(lambda row: (row['a_im']>zero_int[0] and row['a_im']<zero_int[1]), axis=1)\n",
    "stocks"
   ]
  },
  {
   "cell_type": "code",
   "execution_count": null,
   "metadata": {},
   "outputs": [],
   "source": []
  }
 ],
 "metadata": {
  "kernelspec": {
   "display_name": "Python 3",
   "language": "python",
   "name": "python3"
  },
  "language_info": {
   "codemirror_mode": {
    "name": "ipython",
    "version": 3
   },
   "file_extension": ".py",
   "mimetype": "text/x-python",
   "name": "python",
   "nbconvert_exporter": "python",
   "pygments_lexer": "ipython3",
   "version": "3.8.5"
  }
 },
 "nbformat": 4,
 "nbformat_minor": 4
}
